{
 "cells": [
  {
   "cell_type": "code",
   "execution_count": 1,
   "id": "313705bd",
   "metadata": {},
   "outputs": [],
   "source": [
    "import os\n",
    "import numpy as np\n",
    "import matplotlib.pyplot as plt\n",
    "\n",
    "#--------------------Setup the main directories------------------#\n",
    "#Define the various directorieszz\n",
    "script_dir = os.getcwd()                         #define current dir\n",
    "main_dir = os.path.dirname(script_dir)           #go up of one directory\n",
    "results_dir = os.path.join(main_dir, \"figure\")   #define results dir\n",
    "\n",
    "if not os.path.exists(results_dir):              #if the directory does not exist create it\n",
    "    os.mkdir(results_dir)\n"
   ]
  },
  {
   "cell_type": "code",
   "execution_count": null,
   "id": "9c2274f0",
   "metadata": {},
   "outputs": [],
   "source": []
  },
  {
   "cell_type": "code",
   "execution_count": 1,
   "id": "a945c172",
   "metadata": {},
   "outputs": [
    {
     "ename": "NameError",
     "evalue": "name 'np' is not defined",
     "output_type": "error",
     "traceback": [
      "\u001b[1;31m---------------------------------------------------------------------------\u001b[0m",
      "\u001b[1;31mNameError\u001b[0m                                 Traceback (most recent call last)",
      "Cell \u001b[1;32mIn[1], line 12\u001b[0m\n\u001b[0;32m     10\u001b[0m dt \u001b[38;5;241m=\u001b[39m \u001b[38;5;241m1e-3\u001b[39m\n\u001b[0;32m     11\u001b[0m tmax \u001b[38;5;241m=\u001b[39m dt \u001b[38;5;241m*\u001b[39m Nt_step\n\u001b[1;32m---> 12\u001b[0m tt \u001b[38;5;241m=\u001b[39m \u001b[43mnp\u001b[49m\u001b[38;5;241m.\u001b[39marange(\u001b[38;5;241m0\u001b[39m, tmax, dt)\n\u001b[0;32m     15\u001b[0m \u001b[38;5;66;03m#AR parameter\u001b[39;00m\n\u001b[0;32m     16\u001b[0m alpha12 \u001b[38;5;241m=\u001b[39m Kt \u001b[38;5;241m*\u001b[39m dt \u001b[38;5;241m/\u001b[39mJ\n",
      "\u001b[1;31mNameError\u001b[0m: name 'np' is not defined"
     ]
    }
   ],
   "source": [
    "\n",
    "    \n",
    "#--------------------------Plot results----------------------#\n",
    "plt.title('Step response for DC-motor (AR model)')\n",
    "plt.xlabel('Time [s]')\n",
    "plt.ylabel('$\\omega$ [rad/s]')\n",
    "plt.grid(True)\n",
    "plt.minorticks_on()\n",
    "plt.plot(tt,y[:,0]/1000, linestyle='-', linewidth=1.8, marker='')\n",
    "\n",
    "# save the plot in the results dir\n",
    "out_name = os.path.join(results_dir, \"StepRespAR_DCmotor.png\")\n",
    "plt.savefig(out_name)\n",
    "plt.show()"
   ]
  },
  {
   "cell_type": "code",
   "execution_count": null,
   "id": "edb5d188",
   "metadata": {},
   "outputs": [],
   "source": []
  },
  {
   "cell_type": "code",
   "execution_count": null,
   "id": "e32af9f3",
   "metadata": {},
   "outputs": [],
   "source": []
  }
 ],
 "metadata": {
  "kernelspec": {
   "display_name": "Python 3 (ipykernel)",
   "language": "python",
   "name": "python3"
  },
  "language_info": {
   "codemirror_mode": {
    "name": "ipython",
    "version": 3
   },
   "file_extension": ".py",
   "mimetype": "text/x-python",
   "name": "python",
   "nbconvert_exporter": "python",
   "pygments_lexer": "ipython3",
   "version": "3.9.0"
  }
 },
 "nbformat": 4,
 "nbformat_minor": 5
}
